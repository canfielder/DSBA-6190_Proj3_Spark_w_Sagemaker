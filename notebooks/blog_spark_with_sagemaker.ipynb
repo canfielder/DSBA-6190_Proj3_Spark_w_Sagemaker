{
 "cells": [
  {
   "cell_type": "markdown",
   "metadata": {},
   "source": [
    "For Project 3 in my **Intro to Cloud Computing** course, we were tasked with finding a problem that could be solved using a distributed platform (Spark, Hadoop / MapReduce) and then using a distributed platform to engage the problem. I chose to develop a model which identified spam text messagaes using Spark through Amazon Sagemaker and Amazon Web Services (AWS) platform. This post is going to walk through the process of developing this model and settting up all the necessary resources. To be specific is going to cover the following actions:\n",
    "\n",
    "* Estanblish a **LOCAL** Spark Session. (Future posts may connect to a Spark Cluster on Amazon EMR\n",
    "* Load text message data from Amazon S3 into Spark Session\n",
    "* Process data with a Spark ML Pipeline\n",
    " * Develop customer transformers for the ML pipeline\n",
    "* Train the resulting data on a SageMaker instance using SageMaker's XGBoost classification algorithm\n",
    "* Deploy the trained SageMaker model\n",
    "* Evalute the model performance by performing inference on the deployed endpoint\n",
    "\n",
    "For complete access to the project files, the associated GitHub repo for this project can be found here: \n",
    "\n",
    "[https://github.com/canfielder/DSBA-6190_Proj3_Spark_w_Sagemaker](https://github.com/canfielder/DSBA-6190_Proj3_Spark_w_Sagemaker)\n",
    "\n",
    "# Why SageMaker and Spark?\n",
    "For this project we will be performing some standard Natural Language Processing (NLP) actions on SMS messages, and doing so using a distributed platform. Now, there are many different ways to develop a distributed platform process. If we want to use a Spark cluster we can go straight to the source and use Amazon EMR or Google Cloud Dataproc. Or we could set up a MapReduce job on Azure. \n",
    "\n",
    "So why bother tapping into SageMaker?\n",
    "\n",
    "Keep in mind that a many Data Science / Machine Learning processes generally follow these overaching steps:\n",
    "\n",
    "<p align =\"middle\">\n",
    "  <img src=\"../imgs/data_science_process_flow.png\" width=\"35%\" />\n",
    "</p>\n",
    "\n",
    "We want to take special notices of steps two and three: **Process** and **Train**. Processing large quantities of text, and then training the resulting output of that process, might have wildly different sizing needs. If you do both on the same system you would have to size that system for the most conservative usage. This means one of these steps is going to be needlessly oversized (**$$$**).\n",
    "\n",
    "Instead, we can de-couple the **Process** step from **Train** step by utilizing Spark and SageMaker togther. Instead of an oversized, single system, we can:\n",
    "\n",
    "* **Process**: Run your NLP with Spark, either locally or on Amazon EMR clusters\n",
    "* **Train**: Train your model on Amazon SageMaker instances \n",
    "\n",
    "Each process is dynamically sized and spec-ed (GPUs vs no GPUs, etc.) for the actual needs of just that process, not both. In addition, even though you are tapping in to multiple Amazon resources, it is simple to develop this architecture all within a SageMaker notebook.\n",
    "\n",
    "**Note**: I want to recognize the following Medium post, [Mixing Spark with Sagemaker ?](https://medium.com/@julsimon/mixing-spark-with-sagemaker-d30d34ffaee7) for providing a good brief discussion on this very subject.\n",
    "\n",
    "### Notes on Operating Environment\n",
    "I am performing all following actions in Amazon SageMaker on a SageMaker instance. I initially tried to perform these actions locally, connecting to Amazon resources with Boto3. But I kept getting errors executing certain Pyspark actions which I couldn't resolve. Working directly in SageMaker did not result in any errors.\n",
    "\n",
    "# Creating a Machine Learning Pipeline\n",
    "In order to fully take advantage of using Spark and SageMaker, we're going to want to create a Spark ML Pipeline. By using a PipeLine, we can cleanly define a method that will perform all of the actions for both the **Process** and **Train** steps. This PipeLine will tap into Spark for the **Process** step, and SageMaker for the **Train** step. \n",
    "\n",
    "There are two main components for our ML Pipeline:\n",
    "\n",
    "* Transformer\n",
    "* Estimator\n",
    "\n",
    "We will use Transformers for the **Process** step of the pipe. This will require using some readily available Transformers, but also creating some custom Transformers. These Transformer steps will use Spark resources. \n",
    "\n",
    "We will use an Estimator for the **Train** step of the pipeline. An estimator is algorithm that we will train using our data. For this project we will use the XGBoost estimator provided by SageMaker. The Estimator step wil use SageMaker resourses.\n",
    "\n",
    "We can see the full documentation on pipelines here: [ML Pipelines](https://spark.apache.org/docs/latest/ml-pipeline.html).\n",
    "\n",
    "# Spark Cluster\n",
    "First up we will create a local SparkSession. We'll import the necessary libraries and modules, and then create the session."
   ]
  },
  {
   "cell_type": "code",
   "execution_count": 73,
   "metadata": {},
   "outputs": [
    {
     "data": {
      "text/html": [
       "\n",
       "            <div>\n",
       "                <p><b>SparkSession - in-memory</b></p>\n",
       "                \n",
       "        <div>\n",
       "            <p><b>SparkContext</b></p>\n",
       "\n",
       "            <p><a href=\"http://ip-172-16-106-126.ec2.internal:4040\">Spark UI</a></p>\n",
       "\n",
       "            <dl>\n",
       "              <dt>Version</dt>\n",
       "                <dd><code>v2.3.4</code></dd>\n",
       "              <dt>Master</dt>\n",
       "                <dd><code>local[*]</code></dd>\n",
       "              <dt>AppName</dt>\n",
       "                <dd><code>sms_spam_filter</code></dd>\n",
       "            </dl>\n",
       "        </div>\n",
       "        \n",
       "            </div>\n",
       "        "
      ],
      "text/plain": [
       "<pyspark.sql.session.SparkSession at 0x7fda44a68cf8>"
      ]
     },
     "execution_count": 73,
     "metadata": {},
     "output_type": "execute_result"
    }
   ],
   "source": [
    "import os\n",
    "import boto3\n",
    "\n",
    "from pyspark import SparkContext, SparkConf\n",
    "from pyspark.sql import SparkSession\n",
    "\n",
    "import sagemaker_pyspark\n",
    "\n",
    "# Configure Spark to use the SageMaker Spark dependency jars\n",
    "jars = sagemaker_pyspark.classpath_jars()\n",
    "\n",
    "classpath = \":\".join(sagemaker_pyspark.classpath_jars())\n",
    "\n",
    "spark = SparkSession.builder.config(\"spark.driver.extraClassPath\", classpath)\\\n",
    "    .master(\"local[*]\")\\\n",
    "    .appName(\"sms_spam_filter\")\\\n",
    "    .getOrCreate()\n",
    "    \n",
    "spark"
   ]
  },
  {
   "cell_type": "markdown",
   "metadata": {},
   "source": [
    "# AWS Settings and Connections\n",
    "Wiht Spark initialized we need to make the right connections within AWS and define some of our parameters.\n",
    "\n",
    "## Boto3 Connection\n",
    "First things first, we're going to set up a connection to Amazon. Before we can do anything, if doing this work outside of Amazon SageMaker, make sure you have correctly set a AWS configuration file on whatever machine you are working on. See the following documentation for how to do this [Configuring the AWS CLI](https://docs.aws.amazon.com/cli/latest/userguide/cli-chap-configure.html). \n",
    "\n",
    "I established a unique user and role for this exercise, which were granted the following permissions:\n",
    "\n",
    "* AmazonS3FullAccess\n",
    "* AmazonSageMakerFullAccess\n",
    "\n",
    "**Note**: *These permissions are very broad. Usually, when granting permissions, follow the principle of [Grant Least Priviledge](https://docs.aws.amazon.com/IAM/latest/UserGuide/best-practices.html#grant-least-privilege).*\n"
   ]
  },
  {
   "cell_type": "code",
   "execution_count": 74,
   "metadata": {},
   "outputs": [],
   "source": [
    "region = \"us-east-1\"\n",
    "aws_credential_profile = 'blog_spam_sagemaker_spark'\n",
    "role = 'blog_spam_sagemaker_spark'"
   ]
  },
  {
   "cell_type": "markdown",
   "metadata": {},
   "source": [
    "With our region and AWS Credentials file profile defined, we can establish a connection to AWS via the SDK library Boto3. When working with Amazon SageMaker, I prefer establishing a *Session* at the start of my notebook, and then using the session to define Boto3 *Client* and *Resource* objects. This helps maintain a consistency when creating those objects."
   ]
  },
  {
   "cell_type": "code",
   "execution_count": 75,
   "metadata": {},
   "outputs": [],
   "source": [
    "import boto3\n",
    "\n",
    "boto3_session = boto3.session.Session(region_name=region)"
   ]
  },
  {
   "cell_type": "markdown",
   "metadata": {},
   "source": [
    "## AWS Role ARN\n",
    "With a general session established, we are going to connect to the AWS IAM service and extract the ARN associated with role being used for this exercise. This ARN will be needed to access necessary resources AWS resources. The ARN could also be manually copied into this notebook, but I prefer using the Boto3 tools when available and not overly onerous."
   ]
  },
  {
   "cell_type": "code",
   "execution_count": 76,
   "metadata": {},
   "outputs": [
    {
     "name": "stdout",
     "output_type": "stream",
     "text": [
      "arn:aws:iam::726963482731:role/blog_spam_sagemaker_spark\n"
     ]
    }
   ],
   "source": [
    "# Establish IAM Client\n",
    "client_iam = boto3_session.client('iam')\n",
    "\n",
    "# Extract Avaiable Roles\n",
    "role_list = client_iam.list_roles()['Roles']\n",
    "\n",
    "# Initialized Role ARN variable and Establish Key Value\n",
    "role_arn = ''\n",
    "key = 'RoleName'\n",
    "\n",
    "# Extract Role ARN for Exercise Role\n",
    "for item in role_list:\n",
    "    if key in item and role == item[key]:\n",
    "        role_arn = item['Arn']\n",
    "\n",
    "# Verify ARN\n",
    "print(role_arn)"
   ]
  },
  {
   "cell_type": "markdown",
   "metadata": {},
   "source": [
    "# Import\n",
    "The data for this project was the **SMS Spam Collection Dataset**, originally hosted on the UCI Machine Learning repository. The same dataset is also hosted on Kaggle, [here](https://www.kaggle.com/uciml/sms-spam-collection-dataset). I used the Kaggle API to load the data directly to our S3 bucket. More information on how to do that can be found on the [Kaggle GitHub page](https://github.com/Kaggle/kaggle-api) and in the main README file of my personal [GitHub page](https://github.com/canfielder/DSBA-6190_Proj3_Spark_w_Sagemaker) for this project. The result of following the necessary steps is the file *spam.csv*  in a S3 bucket, in this case named *dsba-6190-project3-spark*.\n",
    "\n",
    "#### S3A Endpoint Check\n",
    "The code in the following block comes directly from one of the [SageMaker Spark Examples on GitHub](https://github.com/awslabs/amazon-sagemaker-examples/blob/master/sagemaker-spark/pyspark_mnist/pyspark_mnist_pca_kmeans.ipynb). I have added some additional commenting for context. Essentially this code checks to see if you region is in China, an applies the correct domain suffix to the S3A endpoint to reflect this. S3A is the connector between Haddop and AWS S3. \n",
    "\n",
    "For most regions this step is unnessecary as the default settings will be sufficient, but I have included it just to be safe."
   ]
  },
  {
   "cell_type": "code",
   "execution_count": 77,
   "metadata": {},
   "outputs": [],
   "source": [
    "# List of Chinese Regions\n",
    "cn_regions = ['cn-north-1', 'cn-northwest-1']\n",
    "\n",
    "# Current Region\n",
    "region = boto3_session.region_name\n",
    "\n",
    "# Defined Endpoint URL Domain Suffix (i.e.: .com)\n",
    "endpoint_domain = 'com.cn' if region in cn_regions else 'com'\n",
    "\n",
    "# Set S3A Endpoint\n",
    "spark._jsc.hadoopConfiguration().set('fs.s3a.endpoint', 's3.{}.amazonaws.{}'.format(region, endpoint_domain))"
   ]
  },
  {
   "cell_type": "markdown",
   "metadata": {},
   "source": [
    "## Load Data\n",
    "The data we have is in CSV format. We're going to import this CSV into a pyspark DataFrame. Unlike using a Pandas dataframe, before we load the data it is recommended that we define a schema. For this data in particular, if a schema was not pre-defined, the resulting DataFrame would have contained empty columns."
   ]
  },
  {
   "cell_type": "code",
   "execution_count": 78,
   "metadata": {},
   "outputs": [],
   "source": [
    "from pyspark.sql.types import StructType, StructField, StringType\n",
    "\n",
    "# Define S3 Labels\n",
    "bucket = \"dsba-6190-project3-spark\"\n",
    "file_name = \"spam.csv\"\n",
    "\n",
    "# Define Known Schema\n",
    "schema = StructType([\n",
    "    StructField(\"class\", StringType()),\n",
    "    StructField(\"sms\", StringType())\n",
    "])\n",
    "\n",
    "# Import CSV\n",
    "df = spark.read\\\n",
    "          .schema(schema)\\\n",
    "          .option(\"header\", \"true\")\\\n",
    "          .csv('s3a://{}/{}'.format(bucket, file_name))"
   ]
  },
  {
   "cell_type": "markdown",
   "metadata": {},
   "source": [
    "## Inspect Data\n",
    "After loading the data we're going to inspect the data to see what we're dealing with, and if there are any problems we need to sort through.\n",
    "\n",
    "First, let's take a quick look at what our data looks like by inspecting the top 10 rows."
   ]
  },
  {
   "cell_type": "code",
   "execution_count": 79,
   "metadata": {},
   "outputs": [
    {
     "name": "stdout",
     "output_type": "stream",
     "text": [
      "+-----+----------------------------------------------------------------------------------------------------------------------------------------------------------------+\n",
      "|class|sms                                                                                                                                                             |\n",
      "+-----+----------------------------------------------------------------------------------------------------------------------------------------------------------------+\n",
      "|ham  |Go until jurong point, crazy.. Available only in bugis n great world la e buffet... Cine there got amore wat...                                                 |\n",
      "|ham  |Ok lar... Joking wif u oni...                                                                                                                                   |\n",
      "|spam |Free entry in 2 a wkly comp to win FA Cup final tkts 21st May 2005. Text FA to 87121 to receive entry question(std txt rate)T&C's apply 08452810075over18's     |\n",
      "|ham  |U dun say so early hor... U c already then say...                                                                                                               |\n",
      "|ham  |Nah I don't think he goes to usf, he lives around here though                                                                                                   |\n",
      "|spam |FreeMsg Hey there darling it's been 3 week's now and no word back! I'd like some fun you up for it still? Tb ok! XxX std chgs to send, �1.50 to rcv             |\n",
      "|ham  |Even my brother is not like to speak with me. They treat me like aids patent.                                                                                   |\n",
      "|ham  |As per your request 'Melle Melle (Oru Minnaminunginte Nurungu Vettam)' has been set as your callertune for all Callers. Press *9 to copy your friends Callertune|\n",
      "|spam |WINNER!! As a valued network customer you have been selected to receivea �900 prize reward! To claim call 09061701461. Claim code KL341. Valid 12 hours only.   |\n",
      "|spam |Had your mobile 11 months or more? U R entitled to Update to the latest colour mobiles with camera for Free! Call The Mobile Update Co FREE on 08002986030      |\n",
      "+-----+----------------------------------------------------------------------------------------------------------------------------------------------------------------+\n",
      "only showing top 10 rows\n",
      "\n"
     ]
    }
   ],
   "source": [
    "df.show(10, truncate = False)"
   ]
  },
  {
   "cell_type": "markdown",
   "metadata": {},
   "source": [
    "So pretty straight forward. There are two columns. One column contains our target variable, **class**. The other column contains the raw SMS text, which we will need to process before training our model.\n",
    "\n",
    "As this project is going to boil down to a binary classification exercise, let's look at the frequency counts for our target variable."
   ]
  },
  {
   "cell_type": "code",
   "execution_count": 80,
   "metadata": {},
   "outputs": [
    {
     "name": "stdout",
     "output_type": "stream",
     "text": [
      "+------+-----+\n",
      "| class|count|\n",
      "+------+-----+\n",
      "|ham\"\"\"|    2|\n",
      "|   ham| 4825|\n",
      "|  spam|  747|\n",
      "+------+-----+\n",
      "\n"
     ]
    }
   ],
   "source": [
    "df.groupBy(\"class\").count().show()"
   ]
  },
  {
   "cell_type": "markdown",
   "metadata": {},
   "source": [
    "Uh oh! It appears two observations have errors in the target variable field, **ham\"\"\"**. Let's take a closer look at theses specific observations."
   ]
  },
  {
   "cell_type": "code",
   "execution_count": 81,
   "metadata": {},
   "outputs": [
    {
     "name": "stdout",
     "output_type": "stream",
     "text": [
      "+------+---------------------------------------------------------+\n",
      "|class |sms                                                      |\n",
      "+------+---------------------------------------------------------+\n",
      "|ham\"\"\"|null                                                     |\n",
      "|ham\"\"\"|Well there's still a bit left if you guys want to tonight|\n",
      "+------+---------------------------------------------------------+\n",
      "\n"
     ]
    }
   ],
   "source": [
    "import pyspark.sql.functions as f\n",
    "\n",
    "df.where(f.col(\"class\") == 'ham\"\"\"').show(truncate = False)"
   ]
  },
  {
   "cell_type": "markdown",
   "metadata": {},
   "source": [
    "So, one row is null, while there other appears to be a standard **ham** message. Before doing anthing yet, let's see how many null values are in the complete dataset."
   ]
  },
  {
   "cell_type": "code",
   "execution_count": 82,
   "metadata": {},
   "outputs": [
    {
     "name": "stdout",
     "output_type": "stream",
     "text": [
      "+------+----+\n",
      "| class| sms|\n",
      "+------+----+\n",
      "|ham\"\"\"|null|\n",
      "+------+----+\n",
      "\n"
     ]
    }
   ],
   "source": [
    "from functools import reduce\n",
    "\n",
    "df.where(reduce(lambda x, y: x | y, (f.col(x).isNull() \\\n",
    "                                     for x in df.columns))).show()"
   ]
  },
  {
   "cell_type": "markdown",
   "metadata": {},
   "source": [
    "It seems like there is only the one null value. So, we'll drop the null observation and then correct the typo in the target variable for the other observation. We'll check the target variable frequency again to make sure our corrections were implemented."
   ]
  },
  {
   "cell_type": "code",
   "execution_count": 83,
   "metadata": {},
   "outputs": [
    {
     "name": "stdout",
     "output_type": "stream",
     "text": [
      "+-----+-----+\n",
      "|class|count|\n",
      "+-----+-----+\n",
      "|  ham| 4826|\n",
      "| spam|  747|\n",
      "+-----+-----+\n",
      "\n"
     ]
    }
   ],
   "source": [
    "# Drop Null\n",
    "df = df.dropna()\n",
    "\n",
    "# Correct \"\"\"ham to ham\n",
    "df = df.withColumn(\"class\", f.when(f.col(\"class\") == 'ham\"\"\"' , 'ham').\n",
    "                     otherwise(f.col(\"class\")))\n",
    "\n",
    "# Generate Target Frequency Count\n",
    "df.groupBy(\"class\").count().show()"
   ]
  },
  {
   "cell_type": "markdown",
   "metadata": {},
   "source": [
    "## Split Data\n",
    "We will need to split our data into Training and Validation sets. We will use the Training set to train our XGBoost model. We will then evaluate the trained model using the Validation set. We will use a 75/25 split.\n",
    "\n",
    "**Note**: *Below I also define a seed value. This is used for steps that may return random values. By defining a seed, we that randomness which helps compare outputs and see what changes have what effects."
   ]
  },
  {
   "cell_type": "code",
   "execution_count": 84,
   "metadata": {},
   "outputs": [],
   "source": [
    "seed = 5590\n",
    "split_ratio = 0.75\n",
    "df_train, df_test = df.randomSplit([split_ratio, (1-split_ratio)], seed=seed)"
   ]
  },
  {
   "cell_type": "markdown",
   "metadata": {},
   "source": [
    "# Process\n",
    "Before the our data reaches the **Train** step of our pipeline, it needs to pass through the **Processing** step. As previously stated, **Processing** is going to requie Transformers. This is going to include pre-existing Natural Language Processing (NLP) Transformers, as well as several custom defined Transformers. \n",
    "\n",
    "The **Process** step can be broken out into the follow sub-steps. For each sub-step we will go through the required Transformers. \n",
    "\n",
    "1. Convert Target Variable to binary double-type \n",
    "2. Text Normalization\n",
    "3. Tokenization \n",
    "4. Stop Workd Removal\n",
    "5. TF-IDF Transformation\n",
    "\n",
    "#### A Note on Custom Transformers\n",
    "For custom Transformers, I recommend creating a separate python script defining them, and then loading this script into our notebook when needed. I defined my custom Transformers in a script named *custom_transformers.py* and located it in a the directory *scripts*, located a direct sub-directory to the main working directory of my project. \n",
    "\n",
    "For clarity I will include the code for defining the custom Transformers in this post, but take notice that in practice this code is located in the seperate script.\n",
    "\n",
    "#### A Note on Final Data Format\n",
    "At the end of the Process portion of the Pipeline, we need our DataFrame to be two columns. We need a column of *Doubles* named **label** (our tagret variable), and a column of *Vectors of Doubles* name **features** (our processed text). This is the format our SageMaker XGBoost estimator will understand.\n",
    "\n",
    "## Process Step 1: Target Variable \n",
    "Currently our target variable is a string-type value labeled either spam or ham. We need to convert this to an double-type value of 1 and 0. For this we defined a custom Transformer, shown below. \n",
    "\n",
    "##### Custom Transformer: Binary Target Variable"
   ]
  },
  {
   "cell_type": "code",
   "execution_count": 85,
   "metadata": {},
   "outputs": [],
   "source": [
    "# Insert Custom Transformer Text"
   ]
  },
  {
   "cell_type": "markdown",
   "metadata": {},
   "source": [
    "## Process Step 2: Text Normalization\n",
    "With Text Normalization, we will process the raw text to provide a quality input for our model. The actions used the blog post [**Spam classification using Spark’s DataFrames, ML and Zeppelin (Part 1)**](https://blog.codecentric.de/en/2016/06/spam-classification-using-sparks-dataframes-ml-zeppelin-part-1/) by Daniel Pape, accessed on 4/16/2020, were used as guidance. This blog post provided a good framework particularly for handling types of text you find in an SMS message, such as emoticons.\n",
    "\n",
    "To normalize the text, there are nine steps we plan on taking:\n",
    "\n",
    "1. Convert all text to lowercase\n",
    "2. Convert all numbers to the text **_\" normalized_number \"_**\n",
    "3. Convert all emoticons to the text **_\" normalized_emoticon \"_**\n",
    "4. Convert all currency symbols to the text **_\" normalized_currency_symbol \"_**\n",
    "5. Convert all links to the text **_\" normalized_url \"_**\n",
    "6. Convert all email addresses to the text **_\" normalized_email \"_**\n",
    "7. Convert all diamond/question mark symbols to the text **_\" normalized_doamond_symbol \"_**\n",
    "8. Remove HTML characters\n",
    "9. Remove punctuation\n",
    "\n",
    "These 9 steps can be executed using two custom Transformers. The first will convert all text to lower case. \n",
    "##### Custom Transformer: Convert Text to Lower Case"
   ]
  },
  {
   "cell_type": "code",
   "execution_count": 86,
   "metadata": {},
   "outputs": [],
   "source": [
    "# Insert Custom Transformer Text"
   ]
  },
  {
   "cell_type": "markdown",
   "metadata": {},
   "source": [
    "The second custom Transformer will execute steps two through nine. The custom Transformer identifies text by a provided REGEX expression, and the replaces that identified text will a provided string. To execute steps two through nine, we will call this custom Transformer eight times, each time defining a new REGEX expression and repalcement string. \n",
    "\n",
    "##### Custom Transformer: Replace Text"
   ]
  },
  {
   "cell_type": "code",
   "execution_count": 87,
   "metadata": {},
   "outputs": [],
   "source": [
    "# Insert Custom Transformer Text"
   ]
  },
  {
   "cell_type": "markdown",
   "metadata": {},
   "source": [
    "To better organize the regex strings and normalized text associated with each point above, I saved each REGEX expression as a variable and, created a dictionary cataloging them."
   ]
  },
  {
   "cell_type": "code",
   "execution_count": 88,
   "metadata": {},
   "outputs": [],
   "source": [
    "# List of HTML text\n",
    "html_list = [\"&lt;\", \"&gt;\", \"&amp;\", \"&cent;\", \"&pound;\", \"&yen;\", \"&euro;\", \"&copy;\", \"&reg;\"]\n",
    "\n",
    "# Regex Expressions for normalizing text\n",
    "regex_email = \"\\\\w+(\\\\.|-)*\\\\w+@.*\\\\.(com|de|uk)\"\n",
    "regex_emoticon = \":\\)|:-\\)|:\\(|:-\\(|;\\);-\\)|:-O|8-|:P|:D|:\\||:S|:\\$|:@|8o\\||\\+o\\(|\\(H\\)|\\(C\\)|\\(\\?\\)\"\n",
    "regex_number = \"\\\\d+\"\n",
    "regex_punctuation =\"[\\\\.\\\\,\\\\:\\\\-\\\\!\\\\?\\\\n\\\\t,\\\\%\\\\#\\\\*\\\\|\\\\=\\\\(\\\\)\\\\\\\"\\\\>\\\\<\\\\/]\"\n",
    "regex_currency = \"[\\\\$\\\\€\\\\£]\"\n",
    "regex_url =  \"(http://|https://)?www\\\\.\\\\w+?\\\\.(de|com|co.uk)\"\n",
    "regex_diamond_question = \"�\"\n",
    "regex_html = \"|\".join(html_list)\n",
    "\n",
    "# Dictionary of Normalized Text and Regex Expressions\n",
    "dict_norm = {\n",
    "    regex_emoticon : \" normalized_emoticon \",\n",
    "    regex_email : \" normalized_emailaddress \",\n",
    "    regex_number : \" normalized_number \",\n",
    "    regex_punctuation : \" \",\n",
    "    regex_currency : \" normalized_currency_symbol \",\n",
    "    regex_url: \" normalized_url \",\n",
    "    regex_diamond_question : \" normalized_doamond_symbol \",\n",
    "    regex_html : \" \"\n",
    "}"
   ]
  },
  {
   "cell_type": "markdown",
   "metadata": {},
   "source": [
    "Finally, we create one more custom Transformer that selects the **label** and **features** column from our processed data. \n",
    "\n",
    "##### Custom Transformer: Select Columns"
   ]
  },
  {
   "cell_type": "code",
   "execution_count": 89,
   "metadata": {},
   "outputs": [],
   "source": [
    "# Insert Custom Transformer Text"
   ]
  },
  {
   "cell_type": "markdown",
   "metadata": {},
   "source": [
    "## Process Step 3: Tokenization\n",
    "For this project we will be tokenizing the normalized SMS text with a Bag-of-Words approach. \n",
    "\n",
    "For this step we do not need to define a Transformer as the Pyspark package alread contains the **Tokenizer** Transformer.\n",
    "\n",
    "## Process Step 4: Stop Word Removal\n",
    "With the raw SMS tex tokenized, we can easily remove stop words. Stop words are common words (such as \"the\", \"a\", \"and\", etc.) that don't provide any additional information for our model. We will be using the default English stop words, but custom stop words can also be added. Custom stop words are particularly usefule if processing text all associated with a specific topic. \n",
    "\n",
    "For this step we do not need to define a Transformer as the Pyspark package alread contains the **StopWordsRemover** Transformer.\n",
    "\n",
    "## Process Step 5: Term Frequency - Inverse Docuemnt Frequency Transformation\n",
    "With our raw SMS text fully processes, we now transform our data into numerical form, using Term Frequency and Inverse Document Frequency tranformations. Term Frequency simply measures how frequent each term is in each document (in our case each SMS text message). Inverserse Document Frequecy provides a measurement for how important each term is, by incorporating a factor representing how often each term is used in a document at all. \n",
    "\n",
    "For this step we do not need to define a Transformer as the Pyspark package alread contains the **HashingTF** Transformer for Term Frequency, and the **IDF** Transformer for Inverse Document Frequency.\n",
    "\n",
    "## Define Process PipeLine Stages\n",
    "Now that we have gone over each Transformer, we need to initialize them before incorporating them into the pipeline. \n",
    "\n",
    "But first, we need to load our script of custom Transformers, so that the code in this notebook recognizes them."
   ]
  },
  {
   "cell_type": "code",
   "execution_count": 90,
   "metadata": {},
   "outputs": [],
   "source": [
    "%run '../scripts/custom_transformers.py'"
   ]
  },
  {
   "cell_type": "markdown",
   "metadata": {},
   "source": [
    "With our custom Transformers loaded, we can initialize all of our **Process** step Transformers."
   ]
  },
  {
   "cell_type": "code",
   "execution_count": 91,
   "metadata": {},
   "outputs": [],
   "source": [
    "from pyspark.ml.feature import Tokenizer, StopWordsRemover, HashingTF, IDF\n",
    "\n",
    "# Define Output column name\n",
    "output_col = 'features'\n",
    "\n",
    "# Process Step 1: Target Variable \n",
    "stage_binary_target=BinaryTransform(inputCol=\"class\")\n",
    "\n",
    "# Process Step 2: Text Normalization\n",
    "stage_lowercase_text=LowerCase(inputCol= \"sms\", outputCol=output_col)\n",
    "\n",
    "stage_norm_emot=NormalizeText(inputCol=stage_lowercase_text.getOutputCol(), \n",
    "                               outputCol=output_col, \n",
    "                               normal_text=dict_norm[regex_emoticon],\n",
    "                               regex_replace_string=regex_emoticon)\n",
    "\n",
    "stage_norm_email=NormalizeText(inputCol=stage_norm_emot.getOutputCol(), \n",
    "                               outputCol=output_col, \n",
    "                               normal_text=dict_norm[regex_email],\n",
    "                               regex_replace_string=regex_email)\n",
    "\n",
    "stage_norm_num=NormalizeText(inputCol=stage_norm_email.getOutputCol(), \n",
    "                               outputCol=output_col, \n",
    "                               normal_text=dict_norm[regex_number],\n",
    "                               regex_replace_string=regex_number)\n",
    "\n",
    "stage_norm_punct=NormalizeText(inputCol=stage_norm_num.getOutputCol(), \n",
    "                               outputCol=output_col, \n",
    "                               normal_text=dict_norm[regex_punctuation],\n",
    "                               regex_replace_string=regex_punctuation)\n",
    "\n",
    "stage_norm_cur=NormalizeText(inputCol=stage_norm_punct.getOutputCol(), \n",
    "                               outputCol=output_col, \n",
    "                               normal_text=dict_norm[regex_currency],\n",
    "                               regex_replace_string=regex_currency)\n",
    "\n",
    "stage_norm_url=NormalizeText(inputCol=stage_norm_cur.getOutputCol(), \n",
    "                               outputCol=output_col, \n",
    "                               normal_text=dict_norm[regex_url],\n",
    "                               regex_replace_string=regex_url)\n",
    "\n",
    "stage_norm_diamond=NormalizeText(inputCol=stage_norm_url.getOutputCol(), \n",
    "                               outputCol=output_col, \n",
    "                               normal_text=dict_norm[regex_diamond_question],\n",
    "                               regex_replace_string=regex_diamond_question)\n",
    "\n",
    "# Process Step 3: Tokenization\n",
    "tokens = Tokenizer(inputCol=output_col, outputCol='tokens')\n",
    "\n",
    "# Process Step 4: Stop Word Removal\n",
    "stop_words = StopWordsRemover(inputCol=tokens.getOutputCol(), \n",
    "                           outputCol=\"tokens_filtered\")\n",
    "\n",
    "# Process Step 5: Term Frequency - Inverse Docuemnt Frequency Transformation\n",
    "# Term Frequency Hash\n",
    "hashingTF = HashingTF(inputCol=stop_words.getOutputCol(),\n",
    "                      outputCol=\"tokens_hashed\", numFeatures=1000)\n",
    "\n",
    "# IDF \n",
    "idf = IDF(minDocFreq=2, inputCol=hashingTF.getOutputCol(), \n",
    "          outputCol=\"features_tfidf\")\n",
    "\n",
    "# Final Processing Step - Column Selection \n",
    "stage_column_select=ColumnSelect(inputCol=idf.getOutputCol())"
   ]
  },
  {
   "cell_type": "markdown",
   "metadata": {},
   "source": [
    "# Train\n",
    "With our data processed we can now use it to train our model. As stated previously we are going to use the SageMaker XGBoost algorithm.\n",
    "\n",
    "## Parameters\n",
    "The following code defines the parameters and initializes the XGBoost Estimator for use in our pipeline. \n",
    "\n",
    "A few notes: \n",
    "\n",
    "* One very important part of initializing this Estimator is the **requestRowSerializer** parameter. The preferred data format for the SageMaker XGBoost Estimator is LibSVM. But our data was imported as CSV. Therefore, we need to call the **requestRowSerializer** parameter and use the **LibSVMRequestRowSerializer** fucntion. Without this parameter we would get an error. Our Estimator would not know how to read our data. Also note that we also need to define a schema when using the **LibSVMRequestRowSerializer**.\n",
    "\n",
    "* I recommend including a prefix for the Training Job name. This is done below in the **namePolicyFactory** parameter. Adding a prefix to our Training Job name makes it easier to find the job later.\n",
    "\n",
    "* We used **CREATE_ON_TRANSFORM** for our **endpointCreationPolicy**. This means the inference endpoint will only be created when we try to transform our data with the endpoint. \n"
   ]
  },
  {
   "cell_type": "code",
   "execution_count": 92,
   "metadata": {},
   "outputs": [],
   "source": [
    "from pyspark.ml.linalg import VectorUDT\n",
    "from sagemaker_pyspark import RandomNamePolicyFactory, IAMRole, \\\n",
    "    EndpointCreationPolicy\n",
    "from sagemaker_pyspark.algorithms import XGBoostSageMakerEstimator\n",
    "from sagemaker_pyspark.transformation.serializers.serializers \\\n",
    "    import LibSVMRequestRowSerializer\n",
    "\n",
    "# Define Schema\n",
    "schema_estimator = StructType([\n",
    "    StructField(\"label\", DoubleType()),\n",
    "    StructField(\"features\", VectorUDT())\n",
    "])\n",
    "\n",
    "# Initialize XGBoost Estimator\n",
    "xgboost_estimator = XGBoostSageMakerEstimator(\n",
    "    sagemakerRole = IAMRole(role_arn),\n",
    "    requestRowSerializer=LibSVMRequestRowSerializer(schema=schema_estimator,\n",
    "                                                 featuresColumnName=\"features\",\n",
    "                                                 labelColumnName=\"label\"),\n",
    "    trainingInstanceType = \"ml.m4.xlarge\",\n",
    "    trainingInstanceCount = 1,\n",
    "    endpointInstanceType = \"ml.m4.xlarge\",\n",
    "    endpointInitialInstanceCount = 1,\n",
    "    namePolicyFactory=RandomNamePolicyFactory(\"spam-xgb-\"),\n",
    "    endpointCreationPolicy = EndpointCreationPolicy.CREATE_ON_TRANSFORM\n",
    ")"
   ]
  },
  {
   "cell_type": "markdown",
   "metadata": {},
   "source": [
    "## Hyperparameters\n",
    "Wiht our Estimator inialized we can define hyperparameters. Hyperparameters are the parameters which are not required for the model to run, and that can be arbitrarily set by the user before training.\n",
    "\n",
    "* Well arbitrarily set the number of rounds to 15. This is just to save time and money. A more accurate model may need to run for a longer period.\n",
    "* This problem is a binary classification problem, so we'll et the objective to **binary:logistic** and evaluate based on the **AUC** score.\n",
    "* Well set the seed to make it easier to compare results."
   ]
  },
  {
   "cell_type": "code",
   "execution_count": 93,
   "metadata": {},
   "outputs": [],
   "source": [
    "xgboost_estimator.setNumRound(15)\n",
    "xgboost_estimator.setObjective(\"binary:logistic\")\n",
    "xgboost_estimator.setEvalMetric(\"auc\")\n",
    "xgboost_estimator.setSeed(seed)"
   ]
  },
  {
   "cell_type": "markdown",
   "metadata": {},
   "source": [
    "# Pipeline"
   ]
  },
  {
   "cell_type": "markdown",
   "metadata": {},
   "source": [
    "With all of the Transformers and Estimators initilized, we now initilze our pipeline. Note that the order each Transformer is listed in the pipeline is the order in which the action occurs."
   ]
  },
  {
   "cell_type": "code",
   "execution_count": 94,
   "metadata": {},
   "outputs": [],
   "source": [
    "from pyspark.ml import Pipeline\n",
    "\n",
    "pipeline=Pipeline(stages=[stage_binary_target, stage_lowercase_text, \n",
    "                          stage_norm_emot, stage_norm_url, stage_norm_num,\n",
    "                          stage_norm_punct, stage_norm_cur, stage_norm_url,\n",
    "                          stage_norm_diamond, tokens, stop_words, hashingTF,\n",
    "                          idf, stage_column_select, xgboost_estimator]\n",
    "                 )"
   ]
  },
  {
   "cell_type": "markdown",
   "metadata": {},
   "source": [
    "We then fit the pipeline with our training dataset."
   ]
  },
  {
   "cell_type": "code",
   "execution_count": 95,
   "metadata": {},
   "outputs": [],
   "source": [
    "model = pipeline.fit(df_train)"
   ]
  },
  {
   "cell_type": "markdown",
   "metadata": {},
   "source": [
    "With our pipeline trained, we can then generate predictions."
   ]
  },
  {
   "cell_type": "code",
   "execution_count": 96,
   "metadata": {},
   "outputs": [
    {
     "name": "stdout",
     "output_type": "stream",
     "text": [
      "+-----+--------------------+---------------+\n",
      "|label|            features|     prediction|\n",
      "+-----+--------------------+---------------+\n",
      "|  0.0|(1000,[73,183,301...|0.0678308457136|\n",
      "|  0.0|(1000,[51,134,164...| 0.569287598133|\n",
      "|  0.0|(1000,[19,104,150...| 0.143226265907|\n",
      "|  0.0|(1000,[24,29,62,6...| 0.206150710583|\n",
      "|  0.0|(1000,[94,127,235...|0.0886066406965|\n",
      "+-----+--------------------+---------------+\n",
      "only showing top 5 rows\n",
      "\n"
     ]
    }
   ],
   "source": [
    "prediction = model.transform(df_test)\n",
    "prediction.show(5)"
   ]
  },
  {
   "cell_type": "markdown",
   "metadata": {},
   "source": [
    "# Evaluate\n",
    "Now that we generated predicted values, we can evaluate the performance of our model. First we need to define which observation was **spam**, and which was **ham**. We currently only have probabilies that each observation is **spam**. Therefore, we define the probability threshold as 0.5 and label each prediction as either **spam** or **ham**. We also similarly re-label the **label** column to **spam** and **ham** in order to compare against the predicted values."
   ]
  },
  {
   "cell_type": "code",
   "execution_count": 97,
   "metadata": {},
   "outputs": [
    {
     "name": "stdout",
     "output_type": "stream",
     "text": [
      "+-----+--------------------+---------------+-----------------+---------------+----------+\n",
      "|label|            features|     prediction|prediction_binary|prediction_spam|label_spam|\n",
      "+-----+--------------------+---------------+-----------------+---------------+----------+\n",
      "|  0.0|(1000,[73,183,301...|0.0678308457136|              0.0|            ham|       ham|\n",
      "|  0.0|(1000,[51,134,164...| 0.569287598133|              1.0|           spam|       ham|\n",
      "|  0.0|(1000,[19,104,150...| 0.143226265907|              0.0|            ham|       ham|\n",
      "|  0.0|(1000,[24,29,62,6...| 0.206150710583|              0.0|            ham|       ham|\n",
      "|  0.0|(1000,[94,127,235...|0.0886066406965|              0.0|            ham|       ham|\n",
      "+-----+--------------------+---------------+-----------------+---------------+----------+\n",
      "only showing top 5 rows\n",
      "\n"
     ]
    }
   ],
   "source": [
    "prediction = prediction.withColumn(\"prediction_binary\", \\\n",
    "                                     f.when(f.col(\"prediction\") > 0.5 , 1.0).\n",
    "                                     otherwise(0.0))\n",
    "\n",
    "prediction = prediction.withColumn(\"prediction_spam\", \\\n",
    "                                     f.when(f.col(\"prediction_binary\") == 1 ,\\\n",
    "                                            \"spam\").otherwise(\"ham\"))\n",
    "\n",
    "prediction = prediction.withColumn(\"label_spam\",\\\n",
    "                                     f.when(f.col(\"label\") == 1 , \"spam\").\n",
    "                                     otherwise(\"ham\"))\n",
    "prediction.show(5)"
   ]
  },
  {
   "cell_type": "markdown",
   "metadata": {},
   "source": [
    "## Classification Scores\n",
    "Now we can look at some of the classification scores. Note that we are using both the **MulticlassClassificationEvaluator** and **BinaryClassificationEvaluator** objects to generate the metrics we want. "
   ]
  },
  {
   "cell_type": "code",
   "execution_count": 98,
   "metadata": {},
   "outputs": [],
   "source": [
    "from pyspark.ml.evaluation import MulticlassClassificationEvaluator,\\\n",
    "                                  BinaryClassificationEvaluator\n",
    "\n",
    "def output_scores(prediction):\n",
    "    digit_format  = \": {:.4f}\"\n",
    "    \n",
    "    ### Multi-Class Evaluator\n",
    "    dict_metric_multi = {\"Accuracy\" : \"accuracy\", \n",
    "                         \"Precision - Weighted\" : \"weightedPrecision\", \n",
    "                         \"Recall - Weighted\" : \"weightedRecall\",\n",
    "                         \"F1 Score\": \"f1\"}\n",
    "\n",
    "    for key, value in dict_metric_multi.items():\n",
    "        evaluator =  MulticlassClassificationEvaluator(labelCol=\"label\", \n",
    "                                                   predictionCol=\\\n",
    "                                                       \"prediction_binary\", \n",
    "                                                   metricName=value)\n",
    "\n",
    "        metric = evaluator.evaluate(prediction)\n",
    "\n",
    "        print(key + digit_format.format(metric))   \n",
    "    \n",
    "    # Binary Class Evaluator\n",
    "    dict_metric_bin = {\"AUC Score\" : \"areaUnderROC\"}\n",
    "    for key, value in dict_metric_bin.items():\n",
    "    \n",
    "        evaluator=BinaryClassificationEvaluator(rawPredictionCol=\"prediction\",\n",
    "                                                  labelCol=\"label\", \n",
    "                                                  metricName=value)\n",
    "        \n",
    "        metric = evaluator.evaluate(prediction)\n",
    "        print(key + digit_format.format(metric))"
   ]
  },
  {
   "cell_type": "code",
   "execution_count": 99,
   "metadata": {},
   "outputs": [
    {
     "name": "stdout",
     "output_type": "stream",
     "text": [
      "Accuracy: 0.9746\n",
      "Precision - Weighted: 0.9742\n",
      "Recall - Weighted: 0.9746\n",
      "F1 Score: 0.9741\n",
      "AUC Score: 0.9783\n"
     ]
    }
   ],
   "source": [
    "output_scores(prediction)"
   ]
  },
  {
   "cell_type": "markdown",
   "metadata": {},
   "source": [
    "## ROC Curve\n",
    "Another good classification metric is a Receiver Under the Curve (ROC) plot. Unfortunatley, the pyspark library does not have the functions to generate this plot. So we'll need to convert our prediction Spark DataFrame to a Pandas dataframe. Once converted we can calculate the necessary metrics and plot the ROC Curve.\n",
    "### Metrics"
   ]
  },
  {
   "cell_type": "code",
   "execution_count": 101,
   "metadata": {},
   "outputs": [],
   "source": [
    "from sklearn.metrics import roc_curve, auc\n",
    "import matplotlib.pyplot as plt\n",
    "\n",
    "# Observed Target\n",
    "test_label = prediction.select('label').toPandas()\n",
    "\n",
    "# Predicted Target\n",
    "test_pred = prediction.select('prediction').toPandas()\n",
    "\n",
    "# ROC Curve Metrics\n",
    "fpr, tpr, thresholds = roc_curve(test_label, test_pred)\n",
    "\n",
    "# Area Under the Curv\n",
    "roc_auc = auc(fpr, tpr)"
   ]
  },
  {
   "cell_type": "markdown",
   "metadata": {},
   "source": [
    "### Plot"
   ]
  },
  {
   "cell_type": "code",
   "execution_count": 102,
   "metadata": {},
   "outputs": [
    {
     "data": {
      "text/plain": [
       "<matplotlib.legend.Legend at 0x7fd9fbe6b0f0>"
      ]
     },
     "execution_count": 102,
     "metadata": {},
     "output_type": "execute_result"
    },
    {
     "data": {
      "image/png": "[encoded data removed]",
      "text/plain": [
       "<Figure size 504x504 with 1 Axes>"
      ]
     },
     "metadata": {},
     "output_type": "display_data"
    }
   ],
   "source": [
    "plt.rc('font', size=19.5) \n",
    "plt.figure(figsize=[7,7])\n",
    "plt.plot(fpr, tpr, label='ROC curve (area = %0.3f)' % (roc_auc))\n",
    "plt.plot([0, 1], [0, 1], 'k--')\n",
    "plt.xlim([0.0, 1.0])\n",
    "plt.ylim([0.0, 1.05])\n",
    "plt.xlabel('False Positive Rate')\n",
    "plt.ylabel('True Positive Rate')\n",
    "plt.title('Receiver Operating Characteristic')\n",
    "plt.legend(loc=\"lower right\")"
   ]
  },
  {
   "cell_type": "markdown",
   "metadata": {},
   "source": [
    "## Confusion Matrix\n",
    "Finally, we want to look at a Confusion Matrix to better visualize how well our model predicted **spam** SMS text messages. Much like the ROC curve, first we need to calculate some required metrics. Then we can plot the matrix.\n",
    "\n",
    "### Metrics\n",
    "First, we generate a list of class names. "
   ]
  },
  {
   "cell_type": "code",
   "execution_count": 103,
   "metadata": {},
   "outputs": [],
   "source": [
    "# Create List of Class Names\n",
    "class_label = prediction.select(\"label_spam\").groupBy(\"label_spam\")\\\n",
    "    .count().sort('count', ascending=False).toPandas()\n",
    "class_names = class_label[\"label_spam\"].to_list()"
   ]
  },
  {
   "cell_type": "markdown",
   "metadata": {},
   "source": [
    "Then we calculate the raw Confusion Matrix."
   ]
  },
  {
   "cell_type": "code",
   "execution_count": 104,
   "metadata": {},
   "outputs": [],
   "source": [
    "from sklearn.metrics import confusion_matrix\n",
    "\n",
    "# Convert Labels to Pandas Dataframe\n",
    "y_true = prediction.select(\"label_spam\")\n",
    "y_true = y_true.toPandas()\n",
    "\n",
    "# Convert Predictions to Pandas Dataframe\n",
    "y_pred = prediction.select(\"prediction_spam\")\n",
    "y_pred = y_pred.toPandas()\n",
    "\n",
    "cm = confusion_matrix(y_true, y_pred, labels=class_names)"
   ]
  },
  {
   "cell_type": "markdown",
   "metadata": {},
   "source": [
    "### Plot\n",
    "With our raw Confusion Matrix calculated, we can generate a plot."
   ]
  },
  {
   "cell_type": "code",
   "execution_count": 105,
   "metadata": {},
   "outputs": [],
   "source": [
    "def plot_confusion_matrix(cm, classes,\n",
    "                          normalize=False,\n",
    "                          title='Confusion matrix',\n",
    "                          cmap=plt.cm.Blues):\n",
    "    \"\"\"\n",
    "    This function prints and plots the confusion matrix.\n",
    "    Normalization can be applied by setting `normalize=True`.\n",
    "    \"\"\"\n",
    "    if normalize:\n",
    "        cm = cm.astype('float') / cm.sum(axis=1)[:, np.newaxis]\n",
    "        #print(\"Normalized confusion matrix\")\n",
    "    else:\n",
    "        print()\n",
    "        #print('Confusion matrix, without normalization')\n",
    "\n",
    "    #print(cm)\n",
    "\n",
    "    plt.imshow(cm, interpolation='nearest', cmap=cmap)\n",
    "    plt.title(title)\n",
    "    plt.colorbar()\n",
    "    tick_marks = np.arange(len(classes))\n",
    "    plt.xticks(tick_marks, classes, rotation=45)\n",
    "    plt.yticks(tick_marks, classes)\n",
    "\n",
    "    fmt = '.3f' if normalize else 'd'\n",
    "    thresh = cm.max() / 2.\n",
    "    for i, j in itertools.product(range(cm.shape[0]), range(cm.shape[1])):\n",
    "        plt.text(j, i, format(cm[i, j], fmt),\n",
    "                 horizontalalignment=\"center\",\n",
    "                 color=\"white\" if cm[i, j] > thresh else \"black\")\n",
    "\n",
    "    plt.tight_layout()\n",
    "    plt.ylabel('True label')\n",
    "    plt.xlabel('Predicted label')"
   ]
  },
  {
   "cell_type": "code",
   "execution_count": 106,
   "metadata": {},
   "outputs": [
    {
     "data": {
      "image/png": "[encoded data removed]",
      "text/plain": [
       "<Figure size 504x504 with 2 Axes>"
      ]
     },
     "metadata": {},
     "output_type": "display_data"
    }
   ],
   "source": [
    "import numpy as np\n",
    "import itertools\n",
    "\n",
    "plt.figure(figsize=[7,7])\n",
    "plot_confusion_matrix(cm, \n",
    "                      classes=class_names,\n",
    "                      normalize=True,\n",
    "                      title='Confusion Matrix, \\nWith Normalization')\n",
    "plt.show()"
   ]
  },
  {
   "cell_type": "markdown",
   "metadata": {},
   "source": [
    "# Clean Up\n",
    "Once this effort is completed we'll want to delete our endpoint to avoid unnecessary costs."
   ]
  },
  {
   "cell_type": "code",
   "execution_count": 107,
   "metadata": {},
   "outputs": [],
   "source": [
    "from sagemaker_pyspark import SageMakerResourceCleanup\n",
    "from sagemaker_pyspark import SageMakerModel\n",
    "\n",
    "def cleanUp(model):\n",
    "    resource_cleanup = SageMakerResourceCleanup(model.sagemakerClient)\n",
    "    resource_cleanup.deleteResources(model.getCreatedResources())\n",
    "    \n",
    "# Delete the SageMakerModel in pipeline\n",
    "for m in model.stages:\n",
    "    if isinstance(m, SageMakerModel):\n",
    "        cleanUp(m)"
   ]
  }
 ],
 "metadata": {
  "kernelspec": {
   "display_name": "conda_python3",
   "language": "python",
   "name": "conda_python3"
  },
  "language_info": {
   "codemirror_mode": {
    "name": "ipython",
    "version": 3
   },
   "file_extension": ".py",
   "mimetype": "text/x-python",
   "name": "python",
   "nbconvert_exporter": "python",
   "pygments_lexer": "ipython3",
   "version": "3.6.5"
  }
 },
 "nbformat": 4,
 "nbformat_minor": 4
}
