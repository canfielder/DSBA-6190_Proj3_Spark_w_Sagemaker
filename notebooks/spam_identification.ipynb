{
 "cells": [
  {
   "cell_type": "markdown",
   "metadata": {},
   "source": [
    "# Overview\n",
    "This notebook developes a Spam message identification model using pyspark in an AWS Sagemaker evironment. The dataset for this model is the UCI SMS Spam Collection Data Set found [here](https://archive.ics.uci.edu/ml/datasets/SMS+Spam+Collection). While this dataset is small, the problem this notebook addresses, Spam messages, is a problem that encompasses large enough amounts of data to be a task suited for the Spark platform. "
   ]
  },
  {
   "cell_type": "markdown",
   "metadata": {},
   "source": [
    "# Import"
   ]
  },
  {
   "cell_type": "markdown",
   "metadata": {},
   "source": [
    "## Packages / Libraries"
   ]
  },
  {
   "cell_type": "markdown",
   "metadata": {},
   "source": [
    "import re\n",
    "import os\n",
    "import boto3\n",
    "from functools import reduce\n",
    "import pandas as pd\n",
    "import numpy as np\n",
    "import matplotlib.pyplot as plt\n",
    "import itertools\n",
    "\n",
    "import sagemaker\n",
    "import sagemaker_pyspark\n",
    "from sagemaker import get_execution_role\n",
    "\n",
    "from pyspark import SparkContext, SparkConf\n",
    "from pyspark.ml import Pipeline\n",
    "from pyspark.ml.classification import LogisticRegression\n",
    "from pyspark.ml.evaluation import MulticlassClassificationEvaluator,\\\n",
    "                                  BinaryClassificationEvaluator\n",
    "from pyspark.ml.feature import Tokenizer, StopWordsRemover, \\\n",
    "                               HashingTF, IDF\n",
    "from pyspark.ml.linalg import VectorUDT\n",
    "from pyspark.sql import SparkSession\n",
    "import pyspark.sql.functions as f\n",
    "from pyspark.sql.functions import udf\n",
    "from pyspark.sql.types import StructType, StructField, DoubleType,\\\n",
    "                              IntegerType, StringType\n",
    "\n",
    "from sagemaker_pyspark import RandomNamePolicyFactory, IAMRole,\\\n",
    "                              EndpointCreationPolicy, SageMakerModel,\\\n",
    "                              SageMakerResourceCleanup\n",
    "from sagemaker_pyspark.algorithms import XGBoostSageMakerEstimator,\\\n",
    "                                         PCASageMakerEstimator\n",
    "from sagemaker_pyspark.transformation.serializers \\\n",
    "     import ProtobufRequestRowSerializer\n",
    "from sagemaker_pyspark.transformation.serializers.serializers \\\n",
    "     import LibSVMRequestRowSerializer\n",
    "\n",
    "from sklearn.metrics import confusion_matrix, roc_curve, auc\n",
    "\n",
    "#Set Seed for Random Actions\n",
    "seed = 5590"
   ]
  },
  {
   "cell_type": "markdown",
   "metadata": {},
   "source": [
    "## Setup AWS and Spark\n",
    "The following code blocks set up the global values and settings for AWS and Spark parameters."
   ]
  },
  {
   "cell_type": "markdown",
   "metadata": {},
   "source": [
    "### AWS"
   ]
  },
  {
   "cell_type": "markdown",
   "metadata": {},
   "source": [
    "role = get_execution_role()\n",
    "bucket = \"dsba-6190-project3-spark\"\n",
    "file_name = \"spam.csv\"\n",
    "session = sagemaker.Session()\n",
    "region = boto3.Session().region_name"
   ]
  },
  {
   "cell_type": "markdown",
   "metadata": {},
   "source": [
    "### Spark"
   ]
  },
  {
   "cell_type": "markdown",
   "metadata": {},
   "source": [
    "# Configure Spark to use the SageMaker Spark dependency jars\n",
    "jars = sagemaker_pyspark.classpath_jars()\n",
    "\n",
    "classpath = \":\".join(sagemaker_pyspark.classpath_jars())\n",
    "\n",
    "spark = SparkSession.builder.config(\"spark.driver.extraClassPath\", classpath)\\\n",
    "    .master(\"local\")\\\n",
    "    .appName(\"Spam Filter\")\\\n",
    "    .getOrCreate()\n",
    "    \n",
    "spark"
   ]
  },
  {
   "cell_type": "markdown",
   "metadata": {},
   "source": [
    "## Load Data\n",
    "When we try to load the data using default settings, the import adds headers and includes several empty columns. To avoid this, we define the schema of the data before we import."
   ]
  },
  {
   "cell_type": "markdown",
   "metadata": {},
   "source": [
    "# Define Known Schema\n",
    "schema = StructType([\n",
    "    StructField(\"class\", StringType()),\n",
    "    StructField(\"sms\", StringType())\n",
    "])\n",
    "\n",
    "# Import CSV\n",
    "df = spark.read\\\n",
    "          .schema(schema)\\\n",
    "          .option(\"header\", \"true\")\\\n",
    "          .csv('s3a://{}/{}'.format(bucket, file_name))\n",
    "\n",
    "df_num_col =  len(df.columns)\n",
    "df_num_rows = df.count()\n",
    "\n",
    "# Inspect Import\n",
    "df.show(5)\n",
    "print()\n",
    "print(\"Schema\")\n",
    "df.printSchema()\n",
    "print()\n",
    "print(\"Shape - Rows x Columns\")\n",
    "print(df_num_rows,\"x\", df_num_col)"
   ]
  },
  {
   "cell_type": "markdown",
   "metadata": {},
   "source": [
    "#### Check Null Values\n",
    "We need to check and see if our data contains any null values. "
   ]
  },
  {
   "cell_type": "markdown",
   "metadata": {},
   "source": [
    "df.where(reduce(lambda x, y: x | y, (f.col(x).isNull() \\\n",
    "                                     for x in df.columns))).show()"
   ]
  },
  {
   "cell_type": "markdown",
   "metadata": {},
   "source": [
    "It appears one of the rows contains null values, and the class label is corrupted as well. We can go ahead and drop this row."
   ]
  },
  {
   "cell_type": "markdown",
   "metadata": {},
   "source": [
    "df = df.dropna()"
   ]
  },
  {
   "cell_type": "markdown",
   "metadata": {},
   "source": [
    "Lets now inspect the dataframe now that the null row has been dropped."
   ]
  },
  {
   "cell_type": "markdown",
   "metadata": {},
   "source": [
    "df_num_col =  len(df.columns)\n",
    "df_num_rows = df.count()\n",
    "\n",
    "# Inspect Import\n",
    "df.show(5)\n",
    "print()\n",
    "print(\"Schema\")\n",
    "df.printSchema()\n",
    "print()\n",
    "print(\"Shape - Rows x Columns\")\n",
    "print(df_num_rows,\"x\", df_num_col)"
   ]
  },
  {
   "cell_type": "markdown",
   "metadata": {},
   "source": [
    "Re-check null values."
   ]
  },
  {
   "cell_type": "markdown",
   "metadata": {},
   "source": [
    "df.where(reduce(lambda x, y: x | y, (f.col(x).isNull() \\\n",
    "                                     for x in df.columns))).show()"
   ]
  },
  {
   "cell_type": "markdown",
   "metadata": {},
   "source": [
    "# EDA\n",
    "We'll do some very basic EDA here. First we'll look at the breakdown of our target variables. "
   ]
  },
  {
   "cell_type": "markdown",
   "metadata": {},
   "source": [
    "df.groupBy(\"class\").count().show()"
   ]
  },
  {
   "cell_type": "markdown",
   "metadata": {},
   "source": [
    "Clearly there is an error with the class label on one value. Lets see what the message is associated with **ham\"\"\"**."
   ]
  },
  {
   "cell_type": "markdown",
   "metadata": {},
   "source": [
    "df.where(f.col(\"class\") == 'ham\"\"\"').show(truncate = False)"
   ]
  },
  {
   "cell_type": "markdown",
   "metadata": {},
   "source": [
    "This doesn't seem out of the oridinary, and appears to be a **ham** sms message. I am going to change **ham\"\"\"** to **ham**."
   ]
  },
  {
   "cell_type": "markdown",
   "metadata": {},
   "source": [
    "df = df.withColumn(\"class\", f.when(f.col(\"class\") == 'ham\"\"\"' , 'ham').\n",
    "                     otherwise(f.col(\"class\")))"
   ]
  },
  {
   "cell_type": "markdown",
   "metadata": {},
   "source": [
    "Lets verify the change occurred."
   ]
  },
  {
   "cell_type": "markdown",
   "metadata": {},
   "source": [
    "df.groupBy(\"class\").count().show()"
   ]
  },
  {
   "cell_type": "markdown",
   "metadata": {},
   "source": [
    "# Preprocess\n",
    "Before we perform any analysis on the data we will need to perform three major steps:\n",
    "\n",
    "1. Text Normalization\n",
    "2. Tokenization \n",
    "3. TF-IDF Transformation\n",
    "\n",
    "With Text Normalization, we will process the raw text to provide a quality input for our model. These actions used the blog post [**Spam classification using Spark’s DataFrames, ML and Zeppelin (Part 1)**](https://blog.codecentric.de/en/2016/06/spam-classification-using-sparks-dataframes-ml-zeppelin-part-1/) by Daniel Pape, accessed on 4/16/2020, as guidance for some of these actions. This blog post provided a good framework particularly for handling types of text you find in an SMS message, such as emoticons.\n",
    "\n",
    "Once the raw text is normalized, we can then tokenize and convert the text into a form that can be used by the analytical model.\n",
    "\n",
    "## Text Normalization\n",
    "To normalize the text, there are several steps we plan on taking:\n",
    "\n",
    "1. Convert all text to lowercase\n",
    "2. Convert all numbers to the text **_\" normalized_number \"_**\n",
    "3. Convert all emoticons to the text **_\" normalized_emoticon \"_**\n",
    "4. Convert all currency symbols to the text **_\" normalized_currency_symbol \"_**\n",
    "5. Convert all links to the text **_\" normalized_url \"_**\n",
    "6. Convert all email addresses to the text **_\" normalized_email \"_**\n",
    "7. Convert all diamond/question mark symbols to the text **_\" normalized_doamond_symbol \"_**\n",
    "8. Remove HTML characters\n",
    "9. Remove punctuation\n",
    "\n",
    "### Convert Text to Lower Case"
   ]
  },
  {
   "cell_type": "markdown",
   "metadata": {},
   "source": [
    "df_norm = df.select(\"class\",\"sms\", f.lower(f.col(\"sms\")).alias(\"sms_norm\"))\n",
    "df_norm.show(5)"
   ]
  },
  {
   "cell_type": "markdown",
   "metadata": {},
   "source": [
    "### Normalize Symbols and Objects\n",
    "To normalize the symbols and objects in the data, we will need to define user functions and employ replacement with regex tools.\n",
    "\n",
    "To enable a method to cycle through the dataframe and make all the necessary replacements, I am going to define a dictionary, where each key is the expression that will be used to find what needs to be replaces, and the value is the repalcement string.\n",
    "\n",
    "The regex for the emoticons came from [here](https://www.regextester.com/96995).\n",
    "\n",
    "The remaining regex expressions came from [here](https://github.com/daniel-pape/spark-logistic-regression-spam-sms/blob/master/src/main/scala/preprocessing/LineCleaner.scala)"
   ]
  },
  {
   "cell_type": "markdown",
   "metadata": {},
   "source": [
    "html_list = [\"&lt;\", \"&gt;\", \"&amp;\", \"&cent;\", \"&pound;\", \"&yen;\", \"&euro;\", \"&copy;\", \"&reg;\"]"
   ]
  },
  {
   "cell_type": "markdown",
   "metadata": {},
   "source": [
    "regex_url = \"\\\\w+(\\\\.|-)*\\\\w+@.*\\\\.(com|de|uk)\"\n",
    "regex_emoticon = \":\\)|:-\\)|:\\(|:-\\(|;\\);-\\)|:-O|8-|:P|:D|:\\||:S|:\\$|:@|8o\\||\\+o\\(|\\(H\\)|\\(C\\)|\\(\\?\\)\"\n",
    "regex_number = \"\\\\d+\"\n",
    "regex_punctuation =\"[\\\\.\\\\,\\\\:\\\\-\\\\!\\\\?\\\\n\\\\t,\\\\%\\\\#\\\\*\\\\|\\\\=\\\\(\\\\)\\\\\\\"\\\\>\\\\<\\\\/]\"\n",
    "regex_currency = \"[\\\\$\\\\€\\\\£]\"\n",
    "regex_url =  \"(http://|https://)?www\\\\.\\\\w+?\\\\.(de|com|co.uk)\"\n",
    "regex_diamond_question = \"�\"\n",
    "regex_html = \"|\".join(html_list)\n",
    "\n",
    "dict_norm = {\n",
    "    regex_emoticon : \" normalized_emoticon \",\n",
    "    regex_url : \" normalized_emailaddress \",\n",
    "    regex_number : \" normalized_number \",\n",
    "    regex_punctuation : \" \",\n",
    "    regex_currency : \" normalized_currency_symbol \",\n",
    "    regex_url: \" normalized_url \",\n",
    "    regex_diamond_question : \" normalized_doamond_symbol \",\n",
    "    regex_html : \" \"\n",
    "}\n",
    "\n",
    "#dict_norm"
   ]
  },
  {
   "cell_type": "markdown",
   "metadata": {},
   "source": [
    "for key, value in dict_norm.items():\n",
    "    df_norm = df_norm.withColumn(\"sms_norm\", f.regexp_replace(f.col(\"sms_norm\"),key, value))"
   ]
  },
  {
   "cell_type": "markdown",
   "metadata": {},
   "source": [
    "df_norm.select('class','sms_norm').show(5, truncate = False)"
   ]
  },
  {
   "cell_type": "markdown",
   "metadata": {},
   "source": [
    "df = df_norm.dropna()\n",
    "\n",
    "print(\"Shape - Rows x Columns\")\n",
    "print(df.count(),\"x\", len(df.columns))"
   ]
  },
  {
   "cell_type": "markdown",
   "metadata": {},
   "source": [
    "We're going to check again for null values, to ensure the conversion hasn't created any new null values."
   ]
  },
  {
   "cell_type": "markdown",
   "metadata": {},
   "source": [
    "df = df_norm\n",
    "df.where(reduce(lambda x, y: x | y, (f.col(x).isNull() \\\n",
    "                                     for x in df.columns))).show()"
   ]
  },
  {
   "cell_type": "markdown",
   "metadata": {},
   "source": [
    "## Convert Class to Binary\n",
    "We need to convert our spam/ham class to a binary. We also need to conert the column type to int."
   ]
  },
  {
   "cell_type": "markdown",
   "metadata": {},
   "source": [
    "df_norm = df_norm.withColumn(\"class\", f.when(f.col(\"class\") == \"spam\" , 1).\n",
    "                             when(f.col(\"class\") == \"ham\" , 0).\n",
    "                             otherwise(f.col(\"class\")))\n",
    "\n",
    "df_norm.show(5)"
   ]
  },
  {
   "cell_type": "markdown",
   "metadata": {},
   "source": [
    "df_norm.printSchema()"
   ]
  },
  {
   "cell_type": "markdown",
   "metadata": {},
   "source": [
    "df_norm = df_norm.withColumn(\"class\", f.col('class').cast(IntegerType()))\n",
    "df_norm.show(5)\n",
    "df_norm.printSchema()"
   ]
  },
  {
   "cell_type": "markdown",
   "metadata": {},
   "source": [
    "## Text Tokenization and Transformation\n",
    "We will tokenize the text using a pyspark pipeline. First, we must initialize the pipeline components. For this pipeline, we will user the following estimators:\n",
    "\n",
    "1. Tokenizer\n",
    "2. Stop Words Remover\n",
    "3. Term Frequency Hashing"
   ]
  },
  {
   "cell_type": "markdown",
   "metadata": {},
   "source": [
    "### Establish Pipeline"
   ]
  },
  {
   "cell_type": "markdown",
   "metadata": {},
   "source": [
    "tokenizer = Tokenizer(inputCol=\"sms_norm\", outputCol=\"tokens\")\n",
    "remover = StopWordsRemover(inputCol=\"tokens\", outputCol=\"tokens_filtered\")\n",
    "hashingTF = HashingTF(inputCol=\"tokens\", outputCol=\"features_tf\", \n",
    "                      numFeatures=1000)\n",
    "\n",
    "pipeline_text = Pipeline(stages=[tokenizer, remover, hashingTF])"
   ]
  },
  {
   "cell_type": "markdown",
   "metadata": {},
   "source": [
    "### Execute Pipeline on Complete Dataset"
   ]
  },
  {
   "cell_type": "markdown",
   "metadata": {},
   "source": [
    "pipeline_text_fit = pipeline_text.fit(df_norm)\n",
    "df_pipeline = pipeline_text_fit.transform(df_norm)\n",
    "df_pipeline.show(5)"
   ]
  },
  {
   "cell_type": "markdown",
   "metadata": {},
   "source": [
    "## Train / Test Split\n",
    "Now that we have performed all the possible actions that should be performed on the complete dataset, we split the data into train/test."
   ]
  },
  {
   "cell_type": "markdown",
   "metadata": {},
   "source": [
    "split_train = 0.8\n",
    "train, test = df_pipeline.randomSplit([split_train, (1-split_train)], seed=seed)"
   ]
  },
  {
   "cell_type": "markdown",
   "metadata": {},
   "source": [
    "### Verify Split"
   ]
  },
  {
   "cell_type": "markdown",
   "metadata": {},
   "source": [
    "print(\"Shape - Train\")\n",
    "print((train.count(), len(train.columns)))\n",
    "print()\n",
    "print(\"Shape - Test\")\n",
    "print((test.count(), len(test.columns)))"
   ]
  },
  {
   "cell_type": "markdown",
   "metadata": {},
   "source": [
    "## Inverse Document Frequency Calculation\n",
    "To calculate the Term Frequency - Inverse Document Frequency values for the corpus, we need to train the IDF estmator on the **train** data. Then we apply the trained estimator to the train and test set. "
   ]
  },
  {
   "cell_type": "markdown",
   "metadata": {},
   "source": [
    "#Initialize IDF Estimator\n",
    "idf = IDF(minDocFreq=2, inputCol=\"features_tf\", outputCol=\"features_tfidf\")\n",
    "\n",
    "# Train IDF Estimator to Term Frequency Data\n",
    "idfModel = idf.fit(train)\n",
    "\n",
    "# Re-Scale Term Frequency Data to \n",
    "train = idfModel.transform(train)\n",
    "test = idfModel.transform(test)\n",
    "\n",
    "#Inspect\n",
    "train.show(5)"
   ]
  },
  {
   "cell_type": "markdown",
   "metadata": {},
   "source": [
    "## Isolate Data\n",
    "Moving forward we only need the tf-idf features and the class label. We will relabel them features and label to be consistent with the XGBoost Estmator input labels."
   ]
  },
  {
   "cell_type": "markdown",
   "metadata": {},
   "source": [
    "# Select Data\n",
    "df_train=train.select(f.col(\"class\").alias(\"label\"), f.col(\"features_tfidf\").\n",
    "                        alias(\"features\"))\n",
    "df_train.show(5)\n",
    "df_train.printSchema()"
   ]
  },
  {
   "cell_type": "markdown",
   "metadata": {},
   "source": [
    "df_test = test.select(f.col(\"class\").alias(\"label\"), f.col(\"features_tfidf\").alias(\"features\"))\n",
    "df_test.show(5)\n",
    "df_test.printSchema()"
   ]
  },
  {
   "cell_type": "markdown",
   "metadata": {},
   "source": [
    "# Train\n",
    "We will be training our data on the Sagemaker Pyspark XGBoost algorithm. One tricky part about using this algorithm is that it only takes **LIBSVM** format data. Unfortunatley, that is not the current format of our data. In order for the algoritm to accept our data as an input, we need to do three things\n",
    "\n",
    "1. Define the correct shema\n",
    "2. Convert data to match the correct schema\n",
    "3. Include **LibSVMRequestRowSerializer** as a parameter when initializing the XGBoost estimator.\n",
    "\n",
    "## Define the Schema\n",
    "In order to be accepted as a **LIBSVM** type data, the schema of our pyspark DataFrame must be a specific schema. The schema can be seen buried in the source code of the **Verify Schema** call in the **LibSVMRelation.scala** utility, see [here](https://github.com/apache/spark/blob/930b90a84871e2504b57ed50efa7b8bb52d3ba44/mllib/src/main/scala/org/apache/spark/ml/source/libsvm/LibSVMRelation.scala#L79) (accessed 4/17/2020). Based on this function, our data needs to be in two columns, one column a **DoubleType()** (which will be our label column) and the other column a **VectorUDT()** type (which will be our Sparse Vector features column). \n",
    "\n",
    "With these requirements, we define a general schema."
   ]
  },
  {
   "cell_type": "markdown",
   "metadata": {},
   "source": [
    "schema = StructType([\n",
    "    StructField(\"label\", DoubleType()),\n",
    "    StructField(\"features\", VectorUDT())\n",
    "])\n",
    "print(schema)"
   ]
  },
  {
   "cell_type": "markdown",
   "metadata": {},
   "source": [
    "## Convert Data to Match Schema\n",
    "We also convert the data types of our current train and test data sets to match this data type."
   ]
  },
  {
   "cell_type": "markdown",
   "metadata": {},
   "source": [
    "#Train\n",
    "df_train = df_train.withColumn(\"label\", f.col('label').cast(DoubleType()))\n",
    "df_train = df_train.withColumn(\"features\", f.col('features').cast(VectorUDT()))\n",
    "print(\"Schema - Train\")\n",
    "df_train.printSchema()\n",
    "print()\n",
    "\n",
    "# Test\n",
    "df_test = df_test.withColumn(\"label\", f.col('label').cast(DoubleType()))\n",
    "df_test = df_test.withColumn(\"features\", f.col('features').cast(VectorUDT()))\n",
    "print(\"Schema - Test\")\n",
    "df_test.printSchema()"
   ]
  },
  {
   "cell_type": "markdown",
   "metadata": {},
   "source": [
    "## Initialize Model\n",
    "We will now initialize the XGBoost Estimator. A few notes:\n",
    "\n",
    "* In order for the estimator to accept our input data as **LIBSVM**, we need to use the parameter **requestRowSerializer**. We define this parameter as **LibSVMRequestRowSerializer**, identifying the feature column, label column, and schema. \n",
    "* This is personal preference, but I like adding name to the mode we're creating. It makes it easier to find when you're looking up past trained models. So we add a **namPolicyFactory** value. But be careful. If you want to deploy your model as an endpoint, the maximum number of characters the model name can have is 63. This means the prefix you add to the front of your model can only be about 10 characters. Sagemaker will tack-on the rest of the model tag. If you exceed 63 characters, deploying your endpoint will fail."
   ]
  },
  {
   "cell_type": "markdown",
   "metadata": {},
   "source": [
    "xgboost_estimator = XGBoostSageMakerEstimator(\n",
    "  sagemakerRole = IAMRole(role),\n",
    "  requestRowSerializer=LibSVMRequestRowSerializer(schema=schema,\n",
    "                                                 featuresColumnName=\"features\",\n",
    "                                                 labelColumnName=\"label\"),\n",
    "  trainingInstanceType = \"ml.m4.xlarge\",\n",
    "  trainingInstanceCount = 1,\n",
    "  endpointInstanceType = \"ml.m4.xlarge\",\n",
    "  endpointInitialInstanceCount = 1,\n",
    "  namePolicyFactory=RandomNamePolicyFactory(\"spam-xgb-\"),\n",
    "  endpointCreationPolicy = EndpointCreationPolicy.CREATE_ON_TRANSFORM\n",
    ")"
   ]
  },
  {
   "cell_type": "markdown",
   "metadata": {},
   "source": [
    "## Set Hyperparameters\n",
    "After initializing the model, we set the hyperparameters. This problem is a binary classification problem, so we'll et the objective to **binary:logistic** and evaluate based on the **AUC** score."
   ]
  },
  {
   "cell_type": "markdown",
   "metadata": {},
   "source": [
    "xgboost_estimator.setNumRound(15)\n",
    "xgboost_estimator.setObjective(\"binary:logistic\")\n",
    "xgboost_estimator.setEvalMetric(\"auc\")\n",
    "xgboost_estimator.setSeed(seed)"
   ]
  },
  {
   "cell_type": "markdown",
   "metadata": {},
   "source": [
    "## Train\n",
    "With everything set, we can now train the mode."
   ]
  },
  {
   "cell_type": "markdown",
   "metadata": {},
   "source": [
    "model = xgboost_estimator.fit(df_train)"
   ]
  },
  {
   "cell_type": "markdown",
   "metadata": {},
   "source": [
    "# Evaluate\n",
    "## Transform\n",
    "First, we generate predictons based off the test set."
   ]
  },
  {
   "cell_type": "markdown",
   "metadata": {},
   "source": [
    "predictions = model.transform(df_test)"
   ]
  },
  {
   "cell_type": "markdown",
   "metadata": {},
   "source": [
    "Then, we will assign predicted labels, using 0.5 as a threshold.\n",
    "\n",
    "We will also create re-labeled columns with spam and ham. This will be primarily for downstream visuals."
   ]
  },
  {
   "cell_type": "markdown",
   "metadata": {},
   "source": [
    "predictions = predictions.withColumn(\"prediction_binary\", \\\n",
    "                                     f.when(f.col(\"prediction\") > 0.5 , 1.0).\n",
    "                                     otherwise(0.0))\n",
    "\n",
    "predictions = predictions.withColumn(\"prediction_spam\", \\\n",
    "                                     f.when(f.col(\"prediction_binary\") == 1 ,\\\n",
    "                                            \"spam\").otherwise(\"ham\"))\n",
    "\n",
    "predictions = predictions.withColumn(\"label_spam\",\\\n",
    "                                     f.when(f.col(\"label\") == 1 , \"spam\").\n",
    "                                     otherwise(\"ham\"))\n",
    "predictions.show(5)"
   ]
  },
  {
   "cell_type": "markdown",
   "metadata": {},
   "source": [
    "Lets take a look at the predicted distribution."
   ]
  },
  {
   "cell_type": "markdown",
   "metadata": {},
   "source": [
    "predictions.groupBy(\"prediction_spam\").count().show()"
   ]
  },
  {
   "cell_type": "markdown",
   "metadata": {},
   "source": [
    "### Scores\n",
    "Now we can look at some of the classification scores. Note that we are using both the **MulticlassClassificationEvaluator** and **BinaryClassificationEvaluator** objects to generate the metrics we want. "
   ]
  },
  {
   "cell_type": "markdown",
   "metadata": {},
   "source": [
    "def output_scores(predictions):\n",
    "    digit_format  = \": {:.4f}\"\n",
    "    \n",
    "    ### Multi-Class Evaluator\n",
    "    dict_metric_multi = {\"Accuracy\" : \"accuracy\", \n",
    "                         \"Precision - Weighted\" : \"weightedPrecision\", \n",
    "                         \"Recall - Weighted\" : \"weightedRecall\",\n",
    "                         \"F1 Score\": \"f1\"}\n",
    "\n",
    "    for key, value in dict_metric_multi.items():\n",
    "        evaluator =  MulticlassClassificationEvaluator(labelCol=\"label\", \n",
    "                                                   predictionCol=\\\n",
    "                                                       \"prediction_binary\", \n",
    "                                                   metricName=value)\n",
    "\n",
    "        metric = evaluator.evaluate(predictions)\n",
    "\n",
    "        print(key + digit_format.format(metric))   \n",
    "    \n",
    "    # Binary Class Evaluator\n",
    "    dict_metric_bin = {\"AUC Score\" : \"areaUnderROC\"}\n",
    "    for key, value in dict_metric_bin.items():\n",
    "    \n",
    "        evaluator=BinaryClassificationEvaluator(rawPredictionCol=\"prediction\",\n",
    "                                                  labelCol=\"label\", \n",
    "                                                  metricName=value)\n",
    "        \n",
    "        metric = evaluator.evaluate(predictions)\n",
    "        print(key + digit_format.format(metric))"
   ]
  },
  {
   "cell_type": "markdown",
   "metadata": {},
   "source": [
    "output_scores(predictions)"
   ]
  },
  {
   "cell_type": "markdown",
   "metadata": {},
   "source": [
    "## ROC Curve"
   ]
  },
  {
   "cell_type": "markdown",
   "metadata": {},
   "source": [
    "test_label = predictions.select('label').toPandas()\n",
    "test_pred = predictions.select('prediction').toPandas()"
   ]
  },
  {
   "cell_type": "markdown",
   "metadata": {},
   "source": [
    "fpr, tpr, thresholds = roc_curve(test_label, test_pred)\n",
    "roc_auc"
   ]
  },
  {
   "cell_type": "markdown",
   "metadata": {},
   "source": [
    "roc_auc = auc(fpr, tpr)"
   ]
  },
  {
   "cell_type": "markdown",
   "metadata": {},
   "source": [
    "plt.rc('font', size=19.5) \n",
    "plt.figure(figsize=[7,7])\n",
    "plt.plot(fpr, tpr, label='ROC curve (area = %0.3f)' % (roc_auc))\n",
    "plt.plot([0, 1], [0, 1], 'k--')\n",
    "plt.xlim([0.0, 1.0])\n",
    "plt.ylim([0.0, 1.05])\n",
    "plt.xlabel('False Positive Rate')\n",
    "plt.ylabel('True Positive Rate')\n",
    "plt.title('Receiver Operating Characteristic')\n",
    "plt.legend(loc=\"lower right\")"
   ]
  },
  {
   "cell_type": "markdown",
   "metadata": {},
   "source": [
    "## Confusion Matrix\n",
    "We are going to visualize the confusion matrix using the method outlined [here](https://runawayhorse001.github.io/LearningApacheSpark/classification.html#demo).\n",
    "### Confusion Matrix Plotting Function"
   ]
  },
  {
   "cell_type": "markdown",
   "metadata": {},
   "source": [
    "def plot_confusion_matrix(cm, classes,\n",
    "                          normalize=False,\n",
    "                          title='Confusion matrix',\n",
    "                          cmap=plt.cm.Blues):\n",
    "    \"\"\"\n",
    "    This function prints and plots the confusion matrix.\n",
    "    Normalization can be applied by setting `normalize=True`.\n",
    "    \"\"\"\n",
    "    if normalize:\n",
    "        cm = cm.astype('float') / cm.sum(axis=1)[:, np.newaxis]\n",
    "        #print(\"Normalized confusion matrix\")\n",
    "    else:\n",
    "        print()\n",
    "        #print('Confusion matrix, without normalization')\n",
    "\n",
    "    #print(cm)\n",
    "\n",
    "    plt.imshow(cm, interpolation='nearest', cmap=cmap)\n",
    "    plt.title(title)\n",
    "    plt.colorbar()\n",
    "    tick_marks = np.arange(len(classes))\n",
    "    plt.xticks(tick_marks, classes, rotation=45)\n",
    "    plt.yticks(tick_marks, classes)\n",
    "\n",
    "    fmt = '.3f' if normalize else 'd'\n",
    "    thresh = cm.max() / 2.\n",
    "    for i, j in itertools.product(range(cm.shape[0]), range(cm.shape[1])):\n",
    "        plt.text(j, i, format(cm[i, j], fmt),\n",
    "                 horizontalalignment=\"center\",\n",
    "                 color=\"white\" if cm[i, j] > thresh else \"black\")\n",
    "\n",
    "    plt.tight_layout()\n",
    "    plt.ylabel('True label')\n",
    "    plt.xlabel('Predicted label')"
   ]
  },
  {
   "cell_type": "markdown",
   "metadata": {},
   "source": [
    "### Define Class Names"
   ]
  },
  {
   "cell_type": "markdown",
   "metadata": {},
   "source": [
    "# Create List of Class Names\n",
    "class_label = predictions.select(\"label_spam\").groupBy(\"label_spam\")\\\n",
    "    .count().sort('count', ascending=False).toPandas()\n",
    "class_names = class_label[\"label_spam\"].to_list()\n",
    "class_names\n",
    "#class_names = list(map(str, class_names))"
   ]
  },
  {
   "cell_type": "markdown",
   "metadata": {},
   "source": [
    "### Generate Raw Confusion Matrix"
   ]
  },
  {
   "cell_type": "markdown",
   "metadata": {},
   "source": [
    "# Convert Labels to Pandas Dataframe\n",
    "y_true = predictions.select(\"label_spam\")\n",
    "y_true = y_true.toPandas()\n",
    "\n",
    "# Convert Predictions to Pandas Dataframe\n",
    "y_pred = predictions.select(\"prediction_spam\")\n",
    "y_pred = y_pred.toPandas()\n",
    "\n",
    "cm = confusion_matrix(y_true, y_pred, labels=class_names)"
   ]
  },
  {
   "cell_type": "markdown",
   "metadata": {},
   "source": [
    "### Plot"
   ]
  },
  {
   "cell_type": "markdown",
   "metadata": {},
   "source": [
    "plt.figure(figsize=[7,7])\n",
    "plot_confusion_matrix(cm, \n",
    "                      classes=class_names,\n",
    "                      normalize=True,\n",
    "                      title='Confusion Matrix, \\nWith Normalization')\n",
    "plt.show()"
   ]
  },
  {
   "cell_type": "markdown",
   "metadata": {},
   "source": [
    "# Clean-Up\n",
    "After everything is done, we do not wan't to leave resources needlessly running, costing us money. So, we shut everything down."
   ]
  },
  {
   "cell_type": "markdown",
   "metadata": {},
   "source": [
    "resource_cleanup = SageMakerResourceCleanup(model.sagemakerClient)\n",
    "resource_cleanup.deleteResources(model.getCreatedResources())"
   ]
  }
 ],
 "metadata": {
  "kernelspec": {
   "display_name": "conda_python3",
   "language": "python",
   "name": "conda_python3"
  },
  "language_info": {
   "codemirror_mode": {
    "name": "ipython",
    "version": 3
   },
   "file_extension": ".py",
   "mimetype": "text/x-python",
   "name": "python",
   "nbconvert_exporter": "python",
   "pygments_lexer": "ipython3",
   "version": "3.6.5"
  }
 },
 "nbformat": 4,
 "nbformat_minor": 4
}
